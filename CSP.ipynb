{
 "cells": [
  {
   "cell_type": "markdown",
   "metadata": {},
   "source": [
    "### There is a hospital. Which has 4 specialist doctors. The receptionist checks the availability of the doctor before making the appointment. The criterion for checking the availability of the concerned doctors on their available time slots\n",
    "* Doctor A is a Neurologist and Available only in 8 to 11 AM and then 4 to 5 PM\n",
    "* Doctor B is a Dermatologist and Available only in 4 to 5 PM\n",
    "* Doctor C is a Surgeon and Available only in 10 to 12 AM and then 4 to 7 PM\n",
    "* Doctor D is a MD Medicine and Available only in 10 to 11 AM "
   ]
  },
  {
   "cell_type": "code",
   "execution_count": 1,
   "metadata": {},
   "outputs": [],
   "source": [
    "import constraint"
   ]
  },
  {
   "cell_type": "code",
   "execution_count": 2,
   "metadata": {},
   "outputs": [],
   "source": [
    "problem = constraint.Problem()\n",
    "problem.addVariable('A', range(1,25))\n",
    "problem.addVariable('B', range(1,25))\n",
    "problem.addVariable('C', range(1,25))\n",
    "problem.addVariable('D', range(1,25))"
   ]
  },
  {
   "cell_type": "code",
   "execution_count": 3,
   "metadata": {},
   "outputs": [],
   "source": [
    "def doc1(a):\n",
    "    if a in range(8,12):\n",
    "        return True\n",
    "    if a in range(16,18):\n",
    "        return True\n",
    "    \n",
    "def doc2(b):\n",
    "    if b in range(16,18):\n",
    "        return True\n",
    "    \n",
    "def doc3(c):\n",
    "    if c in range(10,13): \n",
    "        return True\n",
    "    if c in range(16,20):\n",
    "        return True\n",
    "    \n",
    "def doc4(d):\n",
    "    if d in range(10,12):\n",
    "        return True"
   ]
  },
  {
   "cell_type": "code",
   "execution_count": 4,
   "metadata": {},
   "outputs": [],
   "source": [
    "problem.addConstraint(doc1,'A')\n",
    "problem.addConstraint(doc2,'B')\n",
    "problem.addConstraint(doc3,'C')\n",
    "problem.addConstraint(doc4,'D')"
   ]
  },
  {
   "cell_type": "code",
   "execution_count": 5,
   "metadata": {},
   "outputs": [
    {
     "data": {
      "text/plain": [
       "[{'B': 17, 'D': 11, 'A': 17, 'C': 19},\n",
       " {'B': 17, 'D': 11, 'A': 17, 'C': 18},\n",
       " {'B': 17, 'D': 11, 'A': 17, 'C': 17},\n",
       " {'B': 17, 'D': 11, 'A': 17, 'C': 16},\n",
       " {'B': 17, 'D': 11, 'A': 17, 'C': 12},\n",
       " {'B': 17, 'D': 11, 'A': 17, 'C': 11},\n",
       " {'B': 17, 'D': 11, 'A': 17, 'C': 10},\n",
       " {'B': 17, 'D': 11, 'A': 16, 'C': 19},\n",
       " {'B': 17, 'D': 11, 'A': 16, 'C': 18},\n",
       " {'B': 17, 'D': 11, 'A': 16, 'C': 17},\n",
       " {'B': 17, 'D': 11, 'A': 16, 'C': 16},\n",
       " {'B': 17, 'D': 11, 'A': 16, 'C': 12},\n",
       " {'B': 17, 'D': 11, 'A': 16, 'C': 11},\n",
       " {'B': 17, 'D': 11, 'A': 16, 'C': 10},\n",
       " {'B': 17, 'D': 11, 'A': 11, 'C': 19},\n",
       " {'B': 17, 'D': 11, 'A': 11, 'C': 18},\n",
       " {'B': 17, 'D': 11, 'A': 11, 'C': 17},\n",
       " {'B': 17, 'D': 11, 'A': 11, 'C': 16},\n",
       " {'B': 17, 'D': 11, 'A': 11, 'C': 12},\n",
       " {'B': 17, 'D': 11, 'A': 11, 'C': 11},\n",
       " {'B': 17, 'D': 11, 'A': 11, 'C': 10},\n",
       " {'B': 17, 'D': 11, 'A': 10, 'C': 19},\n",
       " {'B': 17, 'D': 11, 'A': 10, 'C': 18},\n",
       " {'B': 17, 'D': 11, 'A': 10, 'C': 17},\n",
       " {'B': 17, 'D': 11, 'A': 10, 'C': 16},\n",
       " {'B': 17, 'D': 11, 'A': 10, 'C': 12},\n",
       " {'B': 17, 'D': 11, 'A': 10, 'C': 11},\n",
       " {'B': 17, 'D': 11, 'A': 10, 'C': 10},\n",
       " {'B': 17, 'D': 11, 'A': 9, 'C': 19},\n",
       " {'B': 17, 'D': 11, 'A': 9, 'C': 18},\n",
       " {'B': 17, 'D': 11, 'A': 9, 'C': 17},\n",
       " {'B': 17, 'D': 11, 'A': 9, 'C': 16},\n",
       " {'B': 17, 'D': 11, 'A': 9, 'C': 12},\n",
       " {'B': 17, 'D': 11, 'A': 9, 'C': 11},\n",
       " {'B': 17, 'D': 11, 'A': 9, 'C': 10},\n",
       " {'B': 17, 'D': 11, 'A': 8, 'C': 19},\n",
       " {'B': 17, 'D': 11, 'A': 8, 'C': 18},\n",
       " {'B': 17, 'D': 11, 'A': 8, 'C': 17},\n",
       " {'B': 17, 'D': 11, 'A': 8, 'C': 16},\n",
       " {'B': 17, 'D': 11, 'A': 8, 'C': 12},\n",
       " {'B': 17, 'D': 11, 'A': 8, 'C': 11},\n",
       " {'B': 17, 'D': 11, 'A': 8, 'C': 10},\n",
       " {'B': 17, 'D': 10, 'A': 17, 'C': 19},\n",
       " {'B': 17, 'D': 10, 'A': 17, 'C': 18},\n",
       " {'B': 17, 'D': 10, 'A': 17, 'C': 17},\n",
       " {'B': 17, 'D': 10, 'A': 17, 'C': 16},\n",
       " {'B': 17, 'D': 10, 'A': 17, 'C': 12},\n",
       " {'B': 17, 'D': 10, 'A': 17, 'C': 11},\n",
       " {'B': 17, 'D': 10, 'A': 17, 'C': 10},\n",
       " {'B': 17, 'D': 10, 'A': 16, 'C': 19},\n",
       " {'B': 17, 'D': 10, 'A': 16, 'C': 18},\n",
       " {'B': 17, 'D': 10, 'A': 16, 'C': 17},\n",
       " {'B': 17, 'D': 10, 'A': 16, 'C': 16},\n",
       " {'B': 17, 'D': 10, 'A': 16, 'C': 12},\n",
       " {'B': 17, 'D': 10, 'A': 16, 'C': 11},\n",
       " {'B': 17, 'D': 10, 'A': 16, 'C': 10},\n",
       " {'B': 17, 'D': 10, 'A': 11, 'C': 19},\n",
       " {'B': 17, 'D': 10, 'A': 11, 'C': 18},\n",
       " {'B': 17, 'D': 10, 'A': 11, 'C': 17},\n",
       " {'B': 17, 'D': 10, 'A': 11, 'C': 16},\n",
       " {'B': 17, 'D': 10, 'A': 11, 'C': 12},\n",
       " {'B': 17, 'D': 10, 'A': 11, 'C': 11},\n",
       " {'B': 17, 'D': 10, 'A': 11, 'C': 10},\n",
       " {'B': 17, 'D': 10, 'A': 10, 'C': 19},\n",
       " {'B': 17, 'D': 10, 'A': 10, 'C': 18},\n",
       " {'B': 17, 'D': 10, 'A': 10, 'C': 17},\n",
       " {'B': 17, 'D': 10, 'A': 10, 'C': 16},\n",
       " {'B': 17, 'D': 10, 'A': 10, 'C': 12},\n",
       " {'B': 17, 'D': 10, 'A': 10, 'C': 11},\n",
       " {'B': 17, 'D': 10, 'A': 10, 'C': 10},\n",
       " {'B': 17, 'D': 10, 'A': 9, 'C': 19},\n",
       " {'B': 17, 'D': 10, 'A': 9, 'C': 18},\n",
       " {'B': 17, 'D': 10, 'A': 9, 'C': 17},\n",
       " {'B': 17, 'D': 10, 'A': 9, 'C': 16},\n",
       " {'B': 17, 'D': 10, 'A': 9, 'C': 12},\n",
       " {'B': 17, 'D': 10, 'A': 9, 'C': 11},\n",
       " {'B': 17, 'D': 10, 'A': 9, 'C': 10},\n",
       " {'B': 17, 'D': 10, 'A': 8, 'C': 19},\n",
       " {'B': 17, 'D': 10, 'A': 8, 'C': 18},\n",
       " {'B': 17, 'D': 10, 'A': 8, 'C': 17},\n",
       " {'B': 17, 'D': 10, 'A': 8, 'C': 16},\n",
       " {'B': 17, 'D': 10, 'A': 8, 'C': 12},\n",
       " {'B': 17, 'D': 10, 'A': 8, 'C': 11},\n",
       " {'B': 17, 'D': 10, 'A': 8, 'C': 10},\n",
       " {'B': 16, 'D': 11, 'A': 17, 'C': 19},\n",
       " {'B': 16, 'D': 11, 'A': 17, 'C': 18},\n",
       " {'B': 16, 'D': 11, 'A': 17, 'C': 17},\n",
       " {'B': 16, 'D': 11, 'A': 17, 'C': 16},\n",
       " {'B': 16, 'D': 11, 'A': 17, 'C': 12},\n",
       " {'B': 16, 'D': 11, 'A': 17, 'C': 11},\n",
       " {'B': 16, 'D': 11, 'A': 17, 'C': 10},\n",
       " {'B': 16, 'D': 11, 'A': 16, 'C': 19},\n",
       " {'B': 16, 'D': 11, 'A': 16, 'C': 18},\n",
       " {'B': 16, 'D': 11, 'A': 16, 'C': 17},\n",
       " {'B': 16, 'D': 11, 'A': 16, 'C': 16},\n",
       " {'B': 16, 'D': 11, 'A': 16, 'C': 12},\n",
       " {'B': 16, 'D': 11, 'A': 16, 'C': 11},\n",
       " {'B': 16, 'D': 11, 'A': 16, 'C': 10},\n",
       " {'B': 16, 'D': 11, 'A': 11, 'C': 19},\n",
       " {'B': 16, 'D': 11, 'A': 11, 'C': 18},\n",
       " {'B': 16, 'D': 11, 'A': 11, 'C': 17},\n",
       " {'B': 16, 'D': 11, 'A': 11, 'C': 16},\n",
       " {'B': 16, 'D': 11, 'A': 11, 'C': 12},\n",
       " {'B': 16, 'D': 11, 'A': 11, 'C': 11},\n",
       " {'B': 16, 'D': 11, 'A': 11, 'C': 10},\n",
       " {'B': 16, 'D': 11, 'A': 10, 'C': 19},\n",
       " {'B': 16, 'D': 11, 'A': 10, 'C': 18},\n",
       " {'B': 16, 'D': 11, 'A': 10, 'C': 17},\n",
       " {'B': 16, 'D': 11, 'A': 10, 'C': 16},\n",
       " {'B': 16, 'D': 11, 'A': 10, 'C': 12},\n",
       " {'B': 16, 'D': 11, 'A': 10, 'C': 11},\n",
       " {'B': 16, 'D': 11, 'A': 10, 'C': 10},\n",
       " {'B': 16, 'D': 11, 'A': 9, 'C': 19},\n",
       " {'B': 16, 'D': 11, 'A': 9, 'C': 18},\n",
       " {'B': 16, 'D': 11, 'A': 9, 'C': 17},\n",
       " {'B': 16, 'D': 11, 'A': 9, 'C': 16},\n",
       " {'B': 16, 'D': 11, 'A': 9, 'C': 12},\n",
       " {'B': 16, 'D': 11, 'A': 9, 'C': 11},\n",
       " {'B': 16, 'D': 11, 'A': 9, 'C': 10},\n",
       " {'B': 16, 'D': 11, 'A': 8, 'C': 19},\n",
       " {'B': 16, 'D': 11, 'A': 8, 'C': 18},\n",
       " {'B': 16, 'D': 11, 'A': 8, 'C': 17},\n",
       " {'B': 16, 'D': 11, 'A': 8, 'C': 16},\n",
       " {'B': 16, 'D': 11, 'A': 8, 'C': 12},\n",
       " {'B': 16, 'D': 11, 'A': 8, 'C': 11},\n",
       " {'B': 16, 'D': 11, 'A': 8, 'C': 10},\n",
       " {'B': 16, 'D': 10, 'A': 17, 'C': 19},\n",
       " {'B': 16, 'D': 10, 'A': 17, 'C': 18},\n",
       " {'B': 16, 'D': 10, 'A': 17, 'C': 17},\n",
       " {'B': 16, 'D': 10, 'A': 17, 'C': 16},\n",
       " {'B': 16, 'D': 10, 'A': 17, 'C': 12},\n",
       " {'B': 16, 'D': 10, 'A': 17, 'C': 11},\n",
       " {'B': 16, 'D': 10, 'A': 17, 'C': 10},\n",
       " {'B': 16, 'D': 10, 'A': 16, 'C': 19},\n",
       " {'B': 16, 'D': 10, 'A': 16, 'C': 18},\n",
       " {'B': 16, 'D': 10, 'A': 16, 'C': 17},\n",
       " {'B': 16, 'D': 10, 'A': 16, 'C': 16},\n",
       " {'B': 16, 'D': 10, 'A': 16, 'C': 12},\n",
       " {'B': 16, 'D': 10, 'A': 16, 'C': 11},\n",
       " {'B': 16, 'D': 10, 'A': 16, 'C': 10},\n",
       " {'B': 16, 'D': 10, 'A': 11, 'C': 19},\n",
       " {'B': 16, 'D': 10, 'A': 11, 'C': 18},\n",
       " {'B': 16, 'D': 10, 'A': 11, 'C': 17},\n",
       " {'B': 16, 'D': 10, 'A': 11, 'C': 16},\n",
       " {'B': 16, 'D': 10, 'A': 11, 'C': 12},\n",
       " {'B': 16, 'D': 10, 'A': 11, 'C': 11},\n",
       " {'B': 16, 'D': 10, 'A': 11, 'C': 10},\n",
       " {'B': 16, 'D': 10, 'A': 10, 'C': 19},\n",
       " {'B': 16, 'D': 10, 'A': 10, 'C': 18},\n",
       " {'B': 16, 'D': 10, 'A': 10, 'C': 17},\n",
       " {'B': 16, 'D': 10, 'A': 10, 'C': 16},\n",
       " {'B': 16, 'D': 10, 'A': 10, 'C': 12},\n",
       " {'B': 16, 'D': 10, 'A': 10, 'C': 11},\n",
       " {'B': 16, 'D': 10, 'A': 10, 'C': 10},\n",
       " {'B': 16, 'D': 10, 'A': 9, 'C': 19},\n",
       " {'B': 16, 'D': 10, 'A': 9, 'C': 18},\n",
       " {'B': 16, 'D': 10, 'A': 9, 'C': 17},\n",
       " {'B': 16, 'D': 10, 'A': 9, 'C': 16},\n",
       " {'B': 16, 'D': 10, 'A': 9, 'C': 12},\n",
       " {'B': 16, 'D': 10, 'A': 9, 'C': 11},\n",
       " {'B': 16, 'D': 10, 'A': 9, 'C': 10},\n",
       " {'B': 16, 'D': 10, 'A': 8, 'C': 19},\n",
       " {'B': 16, 'D': 10, 'A': 8, 'C': 18},\n",
       " {'B': 16, 'D': 10, 'A': 8, 'C': 17},\n",
       " {'B': 16, 'D': 10, 'A': 8, 'C': 16},\n",
       " {'B': 16, 'D': 10, 'A': 8, 'C': 12},\n",
       " {'B': 16, 'D': 10, 'A': 8, 'C': 11},\n",
       " {'B': 16, 'D': 10, 'A': 8, 'C': 10}]"
      ]
     },
     "execution_count": 5,
     "metadata": {},
     "output_type": "execute_result"
    }
   ],
   "source": [
    "sol = problem.getSolutions()\n",
    "sol"
   ]
  },
  {
   "cell_type": "code",
   "execution_count": 6,
   "metadata": {},
   "outputs": [],
   "source": [
    "A = []\n",
    "B = []\n",
    "C = []\n",
    "D = []\n",
    "\n",
    "for i in range(len(sol)):\n",
    "    A.append(sol[i][\"A\"])\n",
    "    B.append(sol[i][\"A\"])\n",
    "    C.append(sol[i][\"A\"])\n",
    "    D.append(sol[i][\"A\"])"
   ]
  },
  {
   "cell_type": "code",
   "execution_count": 7,
   "metadata": {},
   "outputs": [],
   "source": [
    "def Is_Doctor_Available(time,specialization):\n",
    "    for i in range(len(sol)):\n",
    "        if specialization == \"Neurologist\":\n",
    "            if time in A :\n",
    "                return True\n",
    "            else:\n",
    "                return False\n",
    "            \n",
    "        if specialization == \"Dermatologist\":\n",
    "            if time in B:\n",
    "                return True\n",
    "            else:\n",
    "                return False\n",
    "            \n",
    "        if specialization == \"Surgeon\":\n",
    "            if time in C:\n",
    "                return True\n",
    "            else:\n",
    "                return False\n",
    "            \n",
    "        if specialization == \"Medicine\":\n",
    "            if time in D:\n",
    "                return True\n",
    "            else:\n",
    "                return False\n",
    "                 "
   ]
  },
  {
   "cell_type": "markdown",
   "metadata": {},
   "source": [
    "### Input\n",
    "##### Time Of Arrival and Specialization of the Doctor"
   ]
  },
  {
   "cell_type": "code",
   "execution_count": 8,
   "metadata": {},
   "outputs": [
    {
     "name": "stdout",
     "output_type": "stream",
     "text": [
      "Your Time Of Arrival (24 hr time format)16\n",
      "Doctor's Specialization [Medicine,Surgeon,Dermatologist,Neurologist]Surgeon\n"
     ]
    }
   ],
   "source": [
    "time = int(input(\"Your Time Of Arrival (24 hr time format)\"))\n",
    "symptoms = str(input(\"Doctor's Specialization [Medicine,Surgeon,Dermatologist,Neurologist]\"))"
   ]
  },
  {
   "cell_type": "code",
   "execution_count": 9,
   "metadata": {},
   "outputs": [],
   "source": [
    "def Appointment(time,symptoms):\n",
    "    if Is_Doctor_Available(time,symptoms):\n",
    "        print(\"Your Appointment is Shedule at\",time)\n",
    "    else:\n",
    "        print(\"Doctor is not Available\")\n",
    "    "
   ]
  },
  {
   "cell_type": "markdown",
   "metadata": {},
   "source": [
    "* Doctor A is a Neurologist and Available only in 8 to 11 AM and then 4 to 5 PM\n",
    "* Doctor B is a Dermatologist and Available only in 4 to 5 PM\n",
    "* Doctor C is a Surgeon and Available only in 10 to 12 AM and then 4 to 7 PM\n",
    "* Doctor D is a MD Medicine and Available only in 10 to 11 AM"
   ]
  },
  {
   "cell_type": "markdown",
   "metadata": {},
   "source": [
    "### Output\n",
    "##### Is Doctor Available Or Not"
   ]
  },
  {
   "cell_type": "code",
   "execution_count": 10,
   "metadata": {},
   "outputs": [
    {
     "name": "stdout",
     "output_type": "stream",
     "text": [
      "Your Appointment is Shedule at 16\n"
     ]
    }
   ],
   "source": [
    "Appointment(time,symptoms)"
   ]
  },
  {
   "cell_type": "code",
   "execution_count": 11,
   "metadata": {},
   "outputs": [
    {
     "name": "stdout",
     "output_type": "stream",
     "text": [
      "Doctor is not Available\n"
     ]
    }
   ],
   "source": [
    "Appointment(12,\"Surgeon\")"
   ]
  },
  {
   "cell_type": "markdown",
   "metadata": {},
   "source": [
    "### 1.Suppose a VIP has an emergency operation and for that all four doctors should be together in that 5 hour slot. Then which slot is best to operate on VIP"
   ]
  },
  {
   "cell_type": "code",
   "execution_count": 12,
   "metadata": {},
   "outputs": [
    {
     "name": "stdout",
     "output_type": "stream",
     "text": [
      "{'B': 16, 'D': 11, 'A': 16, 'C': 16}\n",
      "{'B': 16, 'D': 11, 'A': 16, 'C': 12}\n",
      "{'B': 16, 'D': 11, 'A': 16, 'C': 11}\n",
      "{'B': 16, 'D': 11, 'A': 11, 'C': 16}\n",
      "{'B': 16, 'D': 11, 'A': 11, 'C': 12}\n",
      "{'B': 16, 'D': 11, 'A': 11, 'C': 11}\n"
     ]
    }
   ],
   "source": [
    "for id,s in enumerate(sol):\n",
    "    availability = max(s['A'],s['B'],s['C'],s['D'] ) - min(s['A'],s['B'],s['C'],s['D'] )\n",
    "    if availability == 5:\n",
    "        print(s)"
   ]
  },
  {
   "cell_type": "markdown",
   "metadata": {},
   "source": [
    "#### So, Operation will be scheduled from 11 to 4"
   ]
  },
  {
   "cell_type": "markdown",
   "metadata": {},
   "source": [
    "### 2.To perform Complicated brain surgery Surgeon needs a Neurologist. Then which time they should prefer to operate on the patient"
   ]
  },
  {
   "cell_type": "code",
   "execution_count": 13,
   "metadata": {},
   "outputs": [
    {
     "name": "stdout",
     "output_type": "stream",
     "text": [
      "{'B': 17, 'D': 11, 'A': 17, 'C': 17}\n",
      "{'B': 17, 'D': 11, 'A': 16, 'C': 16}\n",
      "{'B': 17, 'D': 11, 'A': 11, 'C': 11}\n",
      "{'B': 17, 'D': 11, 'A': 10, 'C': 10}\n",
      "{'B': 17, 'D': 10, 'A': 17, 'C': 17}\n",
      "{'B': 17, 'D': 10, 'A': 16, 'C': 16}\n",
      "{'B': 17, 'D': 10, 'A': 11, 'C': 11}\n",
      "{'B': 17, 'D': 10, 'A': 10, 'C': 10}\n",
      "{'B': 16, 'D': 11, 'A': 17, 'C': 17}\n",
      "{'B': 16, 'D': 11, 'A': 16, 'C': 16}\n",
      "{'B': 16, 'D': 11, 'A': 11, 'C': 11}\n",
      "{'B': 16, 'D': 11, 'A': 10, 'C': 10}\n",
      "{'B': 16, 'D': 10, 'A': 17, 'C': 17}\n",
      "{'B': 16, 'D': 10, 'A': 16, 'C': 16}\n",
      "{'B': 16, 'D': 10, 'A': 11, 'C': 11}\n",
      "{'B': 16, 'D': 10, 'A': 10, 'C': 10}\n"
     ]
    }
   ],
   "source": [
    "for id,s in enumerate(sol):\n",
    "    if s['A'] == s['C']:\n",
    "        print(s)"
   ]
  },
  {
   "cell_type": "markdown",
   "metadata": {},
   "source": [
    "#### They can start operations between 10 and 11 in the morning or 4 to 5 in the evening"
   ]
  },
  {
   "cell_type": "code",
   "execution_count": null,
   "metadata": {},
   "outputs": [],
   "source": []
  }
 ],
 "metadata": {
  "kernelspec": {
   "display_name": "Python 3",
   "language": "python",
   "name": "python3"
  },
  "language_info": {
   "codemirror_mode": {
    "name": "ipython",
    "version": 3
   },
   "file_extension": ".py",
   "mimetype": "text/x-python",
   "name": "python",
   "nbconvert_exporter": "python",
   "pygments_lexer": "ipython3",
   "version": "3.8.5"
  }
 },
 "nbformat": 4,
 "nbformat_minor": 4
}
